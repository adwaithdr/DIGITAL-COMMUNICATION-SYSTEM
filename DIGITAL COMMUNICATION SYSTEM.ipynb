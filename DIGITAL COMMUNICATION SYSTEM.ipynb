{
 "cells": [
  {
   "cell_type": "code",
   "execution_count": 1,
   "id": "30217021",
   "metadata": {},
   "outputs": [],
   "source": [
    "import numpy as np\n",
    "import soundfile as sf\n",
    "import sounddevice as sd"
   ]
  },
  {
   "cell_type": "code",
   "execution_count": 3,
   "id": "86cbf05a",
   "metadata": {},
   "outputs": [],
   "source": [
    "#importing audio and extracting audio data and sampling rate\n",
    "y,srs = sf.read(r\"C:\\Users\\dradw\\Downloads\\WhatsApp Ptt 2023-12-07 at 06.33.10.ogg\")"
   ]
  },
  {
   "cell_type": "code",
   "execution_count": 5,
   "id": "190bd913",
   "metadata": {},
   "outputs": [],
   "source": [
    "#playing the audio\n",
    "sd.play(y, srs)\n",
    "sd.wait()"
   ]
  },
  {
   "cell_type": "code",
   "execution_count": 6,
   "id": "b9b3c126",
   "metadata": {},
   "outputs": [],
   "source": [
    "def quantisation(steps, signal):\n",
    "    maxm = max(signal)                \n",
    "    minm = min(signal)                  \n",
    "    step_size = float(maxm - minm) / (steps) \n",
    "    quantisation_intervals = np.zeros((steps, 2))\n",
    "    quantised_signal = np.array([])\n",
    "    lower = minm\n",
    "    for i in range(steps):\n",
    "        upper = lower + step_size\n",
    "        quantisation_intervals[i] = [lower, upper]\n",
    "        lower += step_size\n",
    "    for i in range(len(signal)):\n",
    "        for j in range(steps):\n",
    "            if (signal[i] >= quantisation_intervals[j, 0] and signal[i] < quantisation_intervals[j, 1]):\n",
    "                quantised_signal = np.append(quantised_signal, (quantisation_intervals[j, 0] + quantisation_intervals[j, 1])/2)\n",
    "            elif (signal[i] == quantisation_intervals[steps-1, 1]):\n",
    "                quantised_signal = np.append(quantised_signal, (quantisation_intervals[steps-1, 0] + quantisation_intervals[steps-1, 1])/2)\n",
    "                break\n",
    "    return quantised_signal"
   ]
  },
  {
   "cell_type": "code",
   "execution_count": 8,
   "id": "f60a2375",
   "metadata": {},
   "outputs": [],
   "source": [
    "steps=512\n",
    "quantised_audio_data = quantisation(steps, y)"
   ]
  },
  {
   "cell_type": "code",
   "execution_count": 9,
   "id": "1108bd31",
   "metadata": {},
   "outputs": [],
   "source": [
    "def encoding_dictionary(signal,steps):\n",
    "    maxm = max(signal)                  \n",
    "    minm = min(signal)                 \n",
    "    step_size = float(maxm - minm) / (steps) \n",
    "    quantisation_intervals = np.zeros((steps, 2))\n",
    "    code = {}\n",
    "    lower = minm\n",
    "    for i in range(steps):\n",
    "        upper = lower + step_size\n",
    "        quantisation_intervals[i] = [lower, upper]\n",
    "        lower += step_size\n",
    "    for i in range(steps):\n",
    "        c = bin(i)[2:]\n",
    "        while(len(c)!=np.log2(steps)):\n",
    "            c = '0'+c\n",
    "        code[(quantisation_intervals[i, 0] + quantisation_intervals[i, 1])/2] = c\n",
    "    return code"
   ]
  },
  {
   "cell_type": "code",
   "execution_count": 10,
   "id": "9100440d",
   "metadata": {},
   "outputs": [],
   "source": [
    "codes = encoding_dictionary(y,steps)"
   ]
  },
  {
   "cell_type": "code",
   "execution_count": 11,
   "id": "9978eaff",
   "metadata": {},
   "outputs": [],
   "source": [
    "def coded_signal(quantised_signal,code):\n",
    "    coded_sequence = []\n",
    "    for value in quantised_signal:\n",
    "        for i in code.keys():\n",
    "            if(value == i):\n",
    "                coded_sequence.append(code[i])\n",
    "                break\n",
    "    return coded_sequence"
   ]
  },
  {
   "cell_type": "code",
   "execution_count": 12,
   "id": "708e4138",
   "metadata": {},
   "outputs": [],
   "source": [
    "pcm_signal_list = coded_signal(quantised_audio_data,codes)"
   ]
  },
  {
   "cell_type": "code",
   "execution_count": 13,
   "id": "bb65fe74",
   "metadata": {},
   "outputs": [],
   "source": [
    "pcm_signal_string = ''.join(l for l in pcm_signal_list)"
   ]
  },
  {
   "cell_type": "code",
   "execution_count": 14,
   "id": "07fb821e",
   "metadata": {},
   "outputs": [],
   "source": [
    "n=7\n",
    "k=4\n",
    "split_pcm_coded = []\n",
    "for i in range(0,len(pcm_signal_string),k):\n",
    "    split_pcm_coded.append(pcm_signal_string[i:i+k])\n",
    "\n",
    "while len(split_pcm_coded[-1])%k != 0:\n",
    "    split_pcm_coded[-1] = '0' + split_pcm_coded[-1]"
   ]
  },
  {
   "cell_type": "code",
   "execution_count": 15,
   "id": "83a71358",
   "metadata": {},
   "outputs": [],
   "source": [
    "P = [[0,1,1],[1,0,1],[1,1,0],[1,1,1]]\n",
    "G = np.eye(k).tolist()\n",
    "for i in range(k):\n",
    "    G[i] = G[i] + P[i]\n",
    "    G[i] = list(map(int, G[i]))"
   ]
  },
  {
   "cell_type": "code",
   "execution_count": 16,
   "id": "656f41ad",
   "metadata": {},
   "outputs": [],
   "source": [
    "P_T = np.array(P).T\n",
    "P_T = P_T.tolist()\n",
    "\n",
    "H = np.eye(n-k).tolist()\n",
    "for i in range(np.shape(P_T)[0]):\n",
    "    H[i] = P_T[i] + H[i]\n",
    "    H[i] = list(map(int, H[i]))"
   ]
  },
  {
   "cell_type": "code",
   "execution_count": 17,
   "id": "7262513d",
   "metadata": {},
   "outputs": [],
   "source": [
    "def hamming_encoding(u,G):\n",
    "    u = list(map(int,u))\n",
    "    ham_encoded = list(map(int,np.zeros(n)))\n",
    "    for i in range(k):\n",
    "        for j in range(n):\n",
    "            ham_encoded[j] = ham_encoded[j]^(u[i] & G[i][j])\n",
    "    ham_encoded = ''.join(str(l) for l in ham_encoded)\n",
    "    return ham_encoded"
   ]
  },
  {
   "cell_type": "code",
   "execution_count": 18,
   "id": "7a577096",
   "metadata": {},
   "outputs": [],
   "source": [
    "hamming_coded_sequence = ''\n",
    "hamming_coded_list = []\n",
    "for u in split_pcm_coded:\n",
    "    v = hamming_encoding(u,G)\n",
    "    hamming_coded_sequence += v\n",
    "    hamming_coded_list.append(v)"
   ]
  },
  {
   "cell_type": "code",
   "execution_count": 19,
   "id": "8c8978f0",
   "metadata": {},
   "outputs": [],
   "source": [
    "m=4\n",
    "Es = 1\n",
    "theoretical_points = {}\n",
    "for i in range(m):\n",
    "    mpsk_symbol = np.sqrt(Es)*np.cos(2*np.pi*(i-1)/m) + 1j*np.sqrt(Es)*np.sin(2*np.pi*(i-1)/m)\n",
    "    key = bin(i)[2:]\n",
    "    while(len(key) != int(np.log2(m))):\n",
    "        key = '0' + key\n",
    "    theoretical_points[key] = mpsk_symbol.round(4)\n",
    "bit_signal = []\n",
    "for i in range(0,len(hamming_coded_sequence),int(np.log2(m))):\n",
    "    bit_signal.append(hamming_coded_sequence[i:i+int(np.log2(m))])\n",
    "while len(bit_signal[-1])%m != 0:\n",
    "    bit_signal[-1] = '0' + bit_signal[-1]\n",
    "bit_signal_str = \"\"\n",
    "for i in range(len(bit_signal)):\n",
    "    bit_signal_str += str(bit_signal[i])"
   ]
  },
  {
   "cell_type": "code",
   "execution_count": 20,
   "id": "7d3c9685",
   "metadata": {},
   "outputs": [],
   "source": [
    "def symbol(transmitted_str,m,theoretical_points):\n",
    "    bits = int(np.log2(m))\n",
    "    symbol_array = []\n",
    "    for i in range(0, int(len(transmitted_str)),bits):\n",
    "        val = transmitted_str[i:i+bits]\n",
    "        symbol_array.append(theoretical_points[val])\n",
    "    return symbol_array"
   ]
  },
  {
   "cell_type": "code",
   "execution_count": 21,
   "id": "acdc2c59",
   "metadata": {},
   "outputs": [],
   "source": [
    "symbol_array = symbol(bit_signal_str,m,theoretical_points)"
   ]
  },
  {
   "cell_type": "code",
   "execution_count": 22,
   "id": "8dab3534",
   "metadata": {},
   "outputs": [],
   "source": [
    "def noise(db,symbol_array):\n",
    "    std_dev = np.sqrt(1/(10**(db/10)))\n",
    "    awgn = np.random.normal(0,std_dev/np.sqrt(2),len(symbol_array)) + 1j*np.random.normal(0,std_dev/np.sqrt(2),len(symbol_array))\n",
    "    return awgn"
   ]
  },
  {
   "cell_type": "code",
   "execution_count": 23,
   "id": "bb7307a8",
   "metadata": {},
   "outputs": [],
   "source": [
    "received_symbol_array = symbol_array + noise(12,symbol_array)"
   ]
  },
  {
   "cell_type": "code",
   "execution_count": 24,
   "id": "f989352e",
   "metadata": {},
   "outputs": [],
   "source": [
    "def ML_decoder(received_symbol_array, m, theoretical_points, Es=1):\n",
    "    decoded_symbol_array = []\n",
    "    for i in range(len(received_symbol_array)):\n",
    "        dic = {}\n",
    "        for j in range(m):\n",
    "            key = bin(j)[2:]\n",
    "            while len(key)%int(np.log2(m)) != 0:\n",
    "                key = '0' + key\n",
    "        \n",
    "            d = np.sqrt((np.real(theoretical_points[key]) - np.real(received_symbol_array[i]))**2 + (np.imag(theoretical_points[key]) - np.imag(received_symbol_array[i]))**2)\n",
    "            dic[key] = d\n",
    "        min_dist = min(list(dic.values()))\n",
    "        for k in range(m):\n",
    "            key = bin(k)[2:]\n",
    "            while len(key)%int(np.log2(m)) != 0:\n",
    "                key = '0' + key\n",
    "            if min_dist == dic[key]:\n",
    "                decoded_symbol_array.append(theoretical_points[key])\n",
    "    return decoded_symbol_array"
   ]
  },
  {
   "cell_type": "code",
   "execution_count": 25,
   "id": "39c657a1",
   "metadata": {},
   "outputs": [],
   "source": [
    "demodulated_symbol_array = ML_decoder(received_symbol_array, m, theoretical_points, Es=1)"
   ]
  },
  {
   "cell_type": "code",
   "execution_count": 26,
   "id": "59b23e45",
   "metadata": {},
   "outputs": [],
   "source": [
    "def demodulated_binary(demodulated_symbol_array,m,theoretical_points):\n",
    "    decoded_bit_string = \"\"\n",
    "    bits = int(np.log2(m))\n",
    "    for i in range(len(demodulated_symbol_array)):\n",
    "        for j in range(m):\n",
    "            key = bin(j)[2:]\n",
    "            while len(key)%bits != 0:\n",
    "                key = '0' + key\n",
    "            if demodulated_symbol_array[i] == theoretical_points[key]:\n",
    "                decoded_bit_string += key\n",
    "    return decoded_bit_string"
   ]
  },
  {
   "cell_type": "code",
   "execution_count": 27,
   "id": "5dc11013",
   "metadata": {},
   "outputs": [],
   "source": [
    "demodulated_bit_string = demodulated_binary(demodulated_symbol_array,m,theoretical_points)"
   ]
  },
  {
   "cell_type": "code",
   "execution_count": 28,
   "id": "08c93c90",
   "metadata": {},
   "outputs": [],
   "source": [
    "demodulated_bit_list = []\n",
    "for i in range(0,len(demodulated_bit_string),n):\n",
    "    demodulated_bit_list.append(demodulated_bit_string[i:i+n])\n",
    "\n",
    "while len(demodulated_bit_list[-1]) != n:\n",
    "    demodulated_bit_list[-1] = '0' + demodulated_bit_list[-1]"
   ]
  },
  {
   "cell_type": "code",
   "execution_count": 29,
   "id": "3050f37c",
   "metadata": {},
   "outputs": [],
   "source": [
    "def ham_decoding_dict(n,k,G):\n",
    "    ham_decoding = {}\n",
    "    for l in range(2**k):\n",
    "        l = bin(l)[2:]\n",
    "        while len(l) != k:\n",
    "            l = '0'+l\n",
    "        l = list(map(int,l))\n",
    "        ham_encoding = list(map(int,np.zeros(n)))\n",
    "        for i in range(k):\n",
    "            for j in range(n):\n",
    "                ham_encoding[j] = ham_encoding[j]^(l[i] & G[i][j])\n",
    "        key = ''.join(str(b) for b in ham_encoding)\n",
    "        value = ''.join(str(b) for b in l)\n",
    "        ham_decoding[key] = value\n",
    "    return ham_decoding"
   ]
  },
  {
   "cell_type": "code",
   "execution_count": 30,
   "id": "46f5a7fd",
   "metadata": {},
   "outputs": [],
   "source": [
    "hamming_decodings_dictionary = ham_decoding_dict(n,k,G)"
   ]
  },
  {
   "cell_type": "code",
   "execution_count": 31,
   "id": "702ef8ed",
   "metadata": {},
   "outputs": [],
   "source": [
    "def syndrome_dict(n,k,H):\n",
    "    H_T = np.array(H).T\n",
    "    error_matrix = np.eye(n).tolist()\n",
    "    for i in range(len(error_matrix)):\n",
    "        error_matrix[i] = list(map(int,error_matrix[i]))\n",
    "    syndrome = {}\n",
    "    for g in range(n):\n",
    "        syn_value = list(map(int,np.zeros((n-k))))\n",
    "        for j in range(n-k):\n",
    "            for i in range(n):\n",
    "                syn_value[j] = syn_value[j]^(error_matrix[g][i] & H_T[i][j])\n",
    "                key = ''.join(str(l) for l in error_matrix[g])\n",
    "                value = ''.join(str(l) for l in syn_value)\n",
    "                syndrome[key] = value\n",
    "    key = '0'*n\n",
    "    value = '0'*(n-k)\n",
    "    syndrome[key] = value\n",
    "    return syndrome"
   ]
  },
  {
   "cell_type": "code",
   "execution_count": 32,
   "id": "edae3ec0",
   "metadata": {},
   "outputs": [],
   "source": [
    "syndrome_dictionary = syndrome_dict(n,k,H)"
   ]
  },
  {
   "cell_type": "code",
   "execution_count": 33,
   "id": "a7b4e610",
   "metadata": {},
   "outputs": [],
   "source": [
    "def hamming_decoding(ml_decoded_string, H, syndrome_dictionary, hamming_decodings_dictionary):\n",
    "    # Syndrome decoding has to performed first for error correction\n",
    "    ml_decoded_list = list(map(int,ml_decoded_string))\n",
    "    H_T = np.array(H).T\n",
    "    syndrome_decoded_list = list(map(int,np.zeros(n)))\n",
    "    syn = list(map(int,np.zeros(n-k)))\n",
    "    for j in range(n-k):\n",
    "        for i in range(n):\n",
    "            syn[j] = syn[j]^(ml_decoded_list[i] & H_T[i][j]) \n",
    "    syn = ''.join(str(l) for l in syn)\n",
    "    for key in list(syndrome_dictionary.keys()):\n",
    "        if syndrome_dictionary[key] == syn:\n",
    "            error = key   \n",
    "    error = list(map(int,error)) \n",
    "    for i in range(len(ml_decoded_list)):\n",
    "        syndrome_decoded_list[i] = ml_decoded_list[i]^error[i]\n",
    "    syndrome_decoded_string = ''.join(str(i) for i in syndrome_decoded_list)\n",
    "    hamming_decoded_string = hamming_decodings_dictionary[syndrome_decoded_string]\n",
    "    return hamming_decoded_string"
   ]
  },
  {
   "cell_type": "code",
   "execution_count": 34,
   "id": "a0c89b40",
   "metadata": {},
   "outputs": [],
   "source": [
    "hamming_decoded_string = ''\n",
    "for i in demodulated_bit_list:\n",
    "    hamming_decoded_string += hamming_decoding(i,H,syndrome_dictionary,hamming_decodings_dictionary)"
   ]
  },
  {
   "cell_type": "code",
   "execution_count": 35,
   "id": "59682ed3",
   "metadata": {},
   "outputs": [],
   "source": [
    "codes = encoding_dictionary(y,steps)"
   ]
  },
  {
   "cell_type": "code",
   "execution_count": 36,
   "id": "b34725f1",
   "metadata": {},
   "outputs": [],
   "source": [
    "received_pcm_list = []\n",
    "bits = int(np.log2(steps))\n",
    "for i in range(0, len(hamming_decoded_string), bits):\n",
    "    received_pcm_list.append(hamming_decoded_string[i:i+bits])\n",
    "while len(received_pcm_list[-1]) != bits:\n",
    "    received_pcm_list[-1] = '0' + received_pcm_list[-1]"
   ]
  },
  {
   "cell_type": "code",
   "execution_count": 37,
   "id": "46971ae2",
   "metadata": {},
   "outputs": [],
   "source": [
    "decoded_pcm_list = []\n",
    "for i in range(len(received_pcm_list)):\n",
    "    for j in list(codes.keys()):\n",
    "        if codes[j] == received_pcm_list[i]:\n",
    "            decoded_pcm_list.append(j)"
   ]
  },
  {
   "cell_type": "code",
   "execution_count": 39,
   "id": "8ae625cd",
   "metadata": {},
   "outputs": [],
   "source": [
    "sd.play(decoded_pcm_list, srs)\n",
    "sd.wait()"
   ]
  },
  {
   "cell_type": "code",
   "execution_count": null,
   "id": "f3951f86",
   "metadata": {},
   "outputs": [],
   "source": []
  }
 ],
 "metadata": {
  "kernelspec": {
   "display_name": "Python 3 (ipykernel)",
   "language": "python",
   "name": "python3"
  },
  "language_info": {
   "codemirror_mode": {
    "name": "ipython",
    "version": 3
   },
   "file_extension": ".py",
   "mimetype": "text/x-python",
   "name": "python",
   "nbconvert_exporter": "python",
   "pygments_lexer": "ipython3",
   "version": "3.10.9"
  }
 },
 "nbformat": 4,
 "nbformat_minor": 5
}
